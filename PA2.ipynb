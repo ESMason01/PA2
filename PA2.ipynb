{
 "cells": [
  {
   "cell_type": "markdown",
   "id": "9520a279",
   "metadata": {},
   "source": [
    "# Assignment 2, Sawyer Mason, Version 1, CS-150-01"
   ]
  },
  {
   "cell_type": "code",
   "execution_count": 3,
   "id": "87ac51ad",
   "metadata": {},
   "outputs": [
    {
     "name": "stdout",
     "output_type": "stream",
     "text": [
      "Enter a floating point number: 11.3\n"
     ]
    }
   ],
   "source": [
    "Float=float(input(\"Enter a floating point number: \"))"
   ]
  },
  {
   "cell_type": "code",
   "execution_count": 1,
   "id": "5309df23",
   "metadata": {},
   "outputs": [
    {
     "name": "stdout",
     "output_type": "stream",
     "text": [
      "Enter an integer: 8\n"
     ]
    }
   ],
   "source": [
    "Integer=int(input(\"Enter an integer: \"))"
   ]
  },
  {
   "cell_type": "code",
   "execution_count": 4,
   "id": "ad77869e",
   "metadata": {},
   "outputs": [
    {
     "name": "stdout",
     "output_type": "stream",
     "text": [
      "The sum is 19.3\n"
     ]
    }
   ],
   "source": [
    "print(\"The sum is\", Float+Integer)"
   ]
  },
  {
   "cell_type": "code",
   "execution_count": 5,
   "id": "1d27d447",
   "metadata": {},
   "outputs": [
    {
     "name": "stdout",
     "output_type": "stream",
     "text": [
      "The difference is 3.3000000000000007\n"
     ]
    }
   ],
   "source": [
    "print(\"The difference is\", Float-Integer)"
   ]
  },
  {
   "cell_type": "code",
   "execution_count": 6,
   "id": "62042310",
   "metadata": {},
   "outputs": [
    {
     "name": "stdout",
     "output_type": "stream",
     "text": [
      "The product is 90.4\n"
     ]
    }
   ],
   "source": [
    "print(\"The product is\", Float*Integer)"
   ]
  },
  {
   "cell_type": "code",
   "execution_count": 7,
   "id": "d4f21e7d",
   "metadata": {},
   "outputs": [
    {
     "name": "stdout",
     "output_type": "stream",
     "text": [
      "The quoteint is 1.4125\n"
     ]
    }
   ],
   "source": [
    "print(\"The quoteint is\", Float/Integer)"
   ]
  },
  {
   "cell_type": "code",
   "execution_count": 10,
   "id": "877843cf",
   "metadata": {},
   "outputs": [
    {
     "name": "stdout",
     "output_type": "stream",
     "text": [
      "The type for this result is <class 'float'>\n"
     ]
    }
   ],
   "source": [
    "print(\"The type for this result is\", type(Float/Integer))"
   ]
  },
  {
   "cell_type": "code",
   "execution_count": null,
   "id": "ebf1b2a0",
   "metadata": {},
   "outputs": [],
   "source": []
  }
 ],
 "metadata": {
  "kernelspec": {
   "display_name": "Python 3 (ipykernel)",
   "language": "python",
   "name": "python3"
  },
  "language_info": {
   "codemirror_mode": {
    "name": "ipython",
    "version": 3
   },
   "file_extension": ".py",
   "mimetype": "text/x-python",
   "name": "python",
   "nbconvert_exporter": "python",
   "pygments_lexer": "ipython3",
   "version": "3.9.13"
  }
 },
 "nbformat": 4,
 "nbformat_minor": 5
}
